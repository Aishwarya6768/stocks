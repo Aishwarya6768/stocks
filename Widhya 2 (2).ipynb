{
 "cells": [
  {
   "cell_type": "code",
   "execution_count": 1,
   "metadata": {},
   "outputs": [
    {
     "name": "stdout",
     "output_type": "stream",
     "text": [
      "Requirement already satisfied: quandl in c:\\users\\aishw\\anaconda3\\lib\\site-packages (3.6.0)\n",
      "Requirement already satisfied: inflection>=0.3.1 in c:\\users\\aishw\\anaconda3\\lib\\site-packages (from quandl) (0.5.1)\n",
      "Requirement already satisfied: requests>=2.7.0 in c:\\users\\aishw\\anaconda3\\lib\\site-packages (from quandl) (2.24.0)\n",
      "Requirement already satisfied: numpy>=1.8 in c:\\users\\aishw\\anaconda3\\lib\\site-packages (from quandl) (1.18.5)\n",
      "Requirement already satisfied: pandas>=0.14 in c:\\users\\aishw\\anaconda3\\lib\\site-packages (from quandl) (1.0.5)\n",
      "Requirement already satisfied: more-itertools in c:\\users\\aishw\\anaconda3\\lib\\site-packages (from quandl) (8.4.0)\n",
      "Requirement already satisfied: python-dateutil in c:\\users\\aishw\\anaconda3\\lib\\site-packages (from quandl) (2.8.1)\n",
      "Requirement already satisfied: six in c:\\users\\aishw\\anaconda3\\lib\\site-packages (from quandl) (1.15.0)\n",
      "Requirement already satisfied: certifi>=2017.4.17 in c:\\users\\aishw\\anaconda3\\lib\\site-packages (from requests>=2.7.0->quandl) (2020.6.20)\n",
      "Requirement already satisfied: urllib3!=1.25.0,!=1.25.1,<1.26,>=1.21.1 in c:\\users\\aishw\\anaconda3\\lib\\site-packages (from requests>=2.7.0->quandl) (1.25.9)\n",
      "Requirement already satisfied: idna<3,>=2.5 in c:\\users\\aishw\\anaconda3\\lib\\site-packages (from requests>=2.7.0->quandl) (2.10)\n",
      "Requirement already satisfied: chardet<4,>=3.0.2 in c:\\users\\aishw\\anaconda3\\lib\\site-packages (from requests>=2.7.0->quandl) (3.0.4)\n",
      "Requirement already satisfied: pytz>=2017.2 in c:\\users\\aishw\\anaconda3\\lib\\site-packages (from pandas>=0.14->quandl) (2020.1)\n"
     ]
    }
   ],
   "source": [
    "!pip3 install quandl"
   ]
  },
  {
   "cell_type": "code",
   "execution_count": 2,
   "metadata": {},
   "outputs": [],
   "source": [
    "import pandas as pd\n",
    "import numpy as np\n",
    "import os\n",
    "import quandl as quandl\n",
    "import time\n",
    "auth_tok='DyqJ9Yo7LyLz4ymydrno'"
   ]
  },
  {
   "cell_type": "code",
   "execution_count": 3,
   "metadata": {
    "scrolled": true
   },
   "outputs": [],
   "source": [
    "df=quandl.get(\"EOD/AAPL\",authtoken=auth_tok)"
   ]
  },
  {
   "cell_type": "code",
   "execution_count": 4,
   "metadata": {},
   "outputs": [
    {
     "data": {
      "text/html": [
       "<div>\n",
       "<style scoped>\n",
       "    .dataframe tbody tr th:only-of-type {\n",
       "        vertical-align: middle;\n",
       "    }\n",
       "\n",
       "    .dataframe tbody tr th {\n",
       "        vertical-align: top;\n",
       "    }\n",
       "\n",
       "    .dataframe thead th {\n",
       "        text-align: right;\n",
       "    }\n",
       "</style>\n",
       "<table border=\"1\" class=\"dataframe\">\n",
       "  <thead>\n",
       "    <tr style=\"text-align: right;\">\n",
       "      <th></th>\n",
       "      <th>Open</th>\n",
       "      <th>High</th>\n",
       "      <th>Low</th>\n",
       "      <th>Close</th>\n",
       "      <th>Volume</th>\n",
       "      <th>Dividend</th>\n",
       "      <th>Split</th>\n",
       "      <th>Adj_Open</th>\n",
       "      <th>Adj_High</th>\n",
       "      <th>Adj_Low</th>\n",
       "      <th>Adj_Close</th>\n",
       "      <th>Adj_Volume</th>\n",
       "    </tr>\n",
       "    <tr>\n",
       "      <th>Date</th>\n",
       "      <th></th>\n",
       "      <th></th>\n",
       "      <th></th>\n",
       "      <th></th>\n",
       "      <th></th>\n",
       "      <th></th>\n",
       "      <th></th>\n",
       "      <th></th>\n",
       "      <th></th>\n",
       "      <th></th>\n",
       "      <th></th>\n",
       "      <th></th>\n",
       "    </tr>\n",
       "  </thead>\n",
       "  <tbody>\n",
       "    <tr>\n",
       "      <th>2013-09-03</th>\n",
       "      <td>493.10</td>\n",
       "      <td>500.60</td>\n",
       "      <td>487.35</td>\n",
       "      <td>488.580</td>\n",
       "      <td>11854600.0</td>\n",
       "      <td>0.0</td>\n",
       "      <td>1.0</td>\n",
       "      <td>15.619650</td>\n",
       "      <td>15.857223</td>\n",
       "      <td>15.437510</td>\n",
       "      <td>15.476472</td>\n",
       "      <td>331928800.0</td>\n",
       "    </tr>\n",
       "    <tr>\n",
       "      <th>2013-09-04</th>\n",
       "      <td>499.56</td>\n",
       "      <td>502.24</td>\n",
       "      <td>496.28</td>\n",
       "      <td>498.691</td>\n",
       "      <td>12322600.0</td>\n",
       "      <td>0.0</td>\n",
       "      <td>1.0</td>\n",
       "      <td>15.824280</td>\n",
       "      <td>15.909173</td>\n",
       "      <td>15.720381</td>\n",
       "      <td>15.796753</td>\n",
       "      <td>345032800.0</td>\n",
       "    </tr>\n",
       "    <tr>\n",
       "      <th>2013-09-05</th>\n",
       "      <td>500.25</td>\n",
       "      <td>500.68</td>\n",
       "      <td>493.64</td>\n",
       "      <td>495.270</td>\n",
       "      <td>8441700.0</td>\n",
       "      <td>0.0</td>\n",
       "      <td>1.0</td>\n",
       "      <td>15.846136</td>\n",
       "      <td>15.859757</td>\n",
       "      <td>15.636755</td>\n",
       "      <td>15.688388</td>\n",
       "      <td>236367600.0</td>\n",
       "    </tr>\n",
       "    <tr>\n",
       "      <th>2013-09-06</th>\n",
       "      <td>498.44</td>\n",
       "      <td>499.38</td>\n",
       "      <td>489.95</td>\n",
       "      <td>498.220</td>\n",
       "      <td>12840200.0</td>\n",
       "      <td>0.0</td>\n",
       "      <td>1.0</td>\n",
       "      <td>15.788802</td>\n",
       "      <td>15.818578</td>\n",
       "      <td>15.519869</td>\n",
       "      <td>15.781833</td>\n",
       "      <td>359525600.0</td>\n",
       "    </tr>\n",
       "    <tr>\n",
       "      <th>2013-09-09</th>\n",
       "      <td>505.00</td>\n",
       "      <td>507.92</td>\n",
       "      <td>503.48</td>\n",
       "      <td>506.170</td>\n",
       "      <td>12167400.0</td>\n",
       "      <td>0.0</td>\n",
       "      <td>1.0</td>\n",
       "      <td>15.996600</td>\n",
       "      <td>16.089095</td>\n",
       "      <td>15.948451</td>\n",
       "      <td>16.033661</td>\n",
       "      <td>340687200.0</td>\n",
       "    </tr>\n",
       "  </tbody>\n",
       "</table>\n",
       "</div>"
      ],
      "text/plain": [
       "              Open    High     Low    Close      Volume  Dividend  Split  \\\n",
       "Date                                                                       \n",
       "2013-09-03  493.10  500.60  487.35  488.580  11854600.0       0.0    1.0   \n",
       "2013-09-04  499.56  502.24  496.28  498.691  12322600.0       0.0    1.0   \n",
       "2013-09-05  500.25  500.68  493.64  495.270   8441700.0       0.0    1.0   \n",
       "2013-09-06  498.44  499.38  489.95  498.220  12840200.0       0.0    1.0   \n",
       "2013-09-09  505.00  507.92  503.48  506.170  12167400.0       0.0    1.0   \n",
       "\n",
       "             Adj_Open   Adj_High    Adj_Low  Adj_Close   Adj_Volume  \n",
       "Date                                                                 \n",
       "2013-09-03  15.619650  15.857223  15.437510  15.476472  331928800.0  \n",
       "2013-09-04  15.824280  15.909173  15.720381  15.796753  345032800.0  \n",
       "2013-09-05  15.846136  15.859757  15.636755  15.688388  236367600.0  \n",
       "2013-09-06  15.788802  15.818578  15.519869  15.781833  359525600.0  \n",
       "2013-09-09  15.996600  16.089095  15.948451  16.033661  340687200.0  "
      ]
     },
     "execution_count": 4,
     "metadata": {},
     "output_type": "execute_result"
    }
   ],
   "source": [
    "df.head()"
   ]
  },
  {
   "cell_type": "code",
   "execution_count": 5,
   "metadata": {},
   "outputs": [
    {
     "data": {
      "text/plain": [
       "(1090, 12)"
      ]
     },
     "execution_count": 5,
     "metadata": {},
     "output_type": "execute_result"
    }
   ],
   "source": [
    "df.shape"
   ]
  },
  {
   "cell_type": "code",
   "execution_count": 6,
   "metadata": {},
   "outputs": [],
   "source": [
    "#High_low_percent\n",
    "df['HL_PCT']=(df['Adj_High']-df['Adj_Low'])/df['Adj_Close']*100.0\n",
    "\n",
    "#Percent Change\n",
    "df['PCT_CHANGE']=(df['Adj_Close']-df['Adj_Open'])/df['Adj_Open']*100.0"
   ]
  },
  {
   "cell_type": "code",
   "execution_count": 7,
   "metadata": {},
   "outputs": [
    {
     "data": {
      "text/html": [
       "<div>\n",
       "<style scoped>\n",
       "    .dataframe tbody tr th:only-of-type {\n",
       "        vertical-align: middle;\n",
       "    }\n",
       "\n",
       "    .dataframe tbody tr th {\n",
       "        vertical-align: top;\n",
       "    }\n",
       "\n",
       "    .dataframe thead th {\n",
       "        text-align: right;\n",
       "    }\n",
       "</style>\n",
       "<table border=\"1\" class=\"dataframe\">\n",
       "  <thead>\n",
       "    <tr style=\"text-align: right;\">\n",
       "      <th></th>\n",
       "      <th>Open</th>\n",
       "      <th>High</th>\n",
       "      <th>Low</th>\n",
       "      <th>Close</th>\n",
       "      <th>Volume</th>\n",
       "      <th>Dividend</th>\n",
       "      <th>Split</th>\n",
       "      <th>Adj_Open</th>\n",
       "      <th>Adj_High</th>\n",
       "      <th>Adj_Low</th>\n",
       "      <th>Adj_Close</th>\n",
       "      <th>Adj_Volume</th>\n",
       "      <th>HL_PCT</th>\n",
       "      <th>PCT_CHANGE</th>\n",
       "    </tr>\n",
       "    <tr>\n",
       "      <th>Date</th>\n",
       "      <th></th>\n",
       "      <th></th>\n",
       "      <th></th>\n",
       "      <th></th>\n",
       "      <th></th>\n",
       "      <th></th>\n",
       "      <th></th>\n",
       "      <th></th>\n",
       "      <th></th>\n",
       "      <th></th>\n",
       "      <th></th>\n",
       "      <th></th>\n",
       "      <th></th>\n",
       "      <th></th>\n",
       "    </tr>\n",
       "  </thead>\n",
       "  <tbody>\n",
       "    <tr>\n",
       "      <th>2013-09-03</th>\n",
       "      <td>493.10</td>\n",
       "      <td>500.60</td>\n",
       "      <td>487.35</td>\n",
       "      <td>488.580</td>\n",
       "      <td>11854600.0</td>\n",
       "      <td>0.0</td>\n",
       "      <td>1.0</td>\n",
       "      <td>15.619650</td>\n",
       "      <td>15.857223</td>\n",
       "      <td>15.437510</td>\n",
       "      <td>15.476472</td>\n",
       "      <td>331928800.0</td>\n",
       "      <td>2.711941</td>\n",
       "      <td>-0.916650</td>\n",
       "    </tr>\n",
       "    <tr>\n",
       "      <th>2013-09-04</th>\n",
       "      <td>499.56</td>\n",
       "      <td>502.24</td>\n",
       "      <td>496.28</td>\n",
       "      <td>498.691</td>\n",
       "      <td>12322600.0</td>\n",
       "      <td>0.0</td>\n",
       "      <td>1.0</td>\n",
       "      <td>15.824280</td>\n",
       "      <td>15.909173</td>\n",
       "      <td>15.720381</td>\n",
       "      <td>15.796753</td>\n",
       "      <td>345032800.0</td>\n",
       "      <td>1.195129</td>\n",
       "      <td>-0.173953</td>\n",
       "    </tr>\n",
       "    <tr>\n",
       "      <th>2013-09-05</th>\n",
       "      <td>500.25</td>\n",
       "      <td>500.68</td>\n",
       "      <td>493.64</td>\n",
       "      <td>495.270</td>\n",
       "      <td>8441700.0</td>\n",
       "      <td>0.0</td>\n",
       "      <td>1.0</td>\n",
       "      <td>15.846136</td>\n",
       "      <td>15.859757</td>\n",
       "      <td>15.636755</td>\n",
       "      <td>15.688388</td>\n",
       "      <td>236367600.0</td>\n",
       "      <td>1.421447</td>\n",
       "      <td>-0.995502</td>\n",
       "    </tr>\n",
       "    <tr>\n",
       "      <th>2013-09-06</th>\n",
       "      <td>498.44</td>\n",
       "      <td>499.38</td>\n",
       "      <td>489.95</td>\n",
       "      <td>498.220</td>\n",
       "      <td>12840200.0</td>\n",
       "      <td>0.0</td>\n",
       "      <td>1.0</td>\n",
       "      <td>15.788802</td>\n",
       "      <td>15.818578</td>\n",
       "      <td>15.519869</td>\n",
       "      <td>15.781833</td>\n",
       "      <td>359525600.0</td>\n",
       "      <td>1.892738</td>\n",
       "      <td>-0.044138</td>\n",
       "    </tr>\n",
       "    <tr>\n",
       "      <th>2013-09-09</th>\n",
       "      <td>505.00</td>\n",
       "      <td>507.92</td>\n",
       "      <td>503.48</td>\n",
       "      <td>506.170</td>\n",
       "      <td>12167400.0</td>\n",
       "      <td>0.0</td>\n",
       "      <td>1.0</td>\n",
       "      <td>15.996600</td>\n",
       "      <td>16.089095</td>\n",
       "      <td>15.948451</td>\n",
       "      <td>16.033661</td>\n",
       "      <td>340687200.0</td>\n",
       "      <td>0.877176</td>\n",
       "      <td>0.231683</td>\n",
       "    </tr>\n",
       "  </tbody>\n",
       "</table>\n",
       "</div>"
      ],
      "text/plain": [
       "              Open    High     Low    Close      Volume  Dividend  Split  \\\n",
       "Date                                                                       \n",
       "2013-09-03  493.10  500.60  487.35  488.580  11854600.0       0.0    1.0   \n",
       "2013-09-04  499.56  502.24  496.28  498.691  12322600.0       0.0    1.0   \n",
       "2013-09-05  500.25  500.68  493.64  495.270   8441700.0       0.0    1.0   \n",
       "2013-09-06  498.44  499.38  489.95  498.220  12840200.0       0.0    1.0   \n",
       "2013-09-09  505.00  507.92  503.48  506.170  12167400.0       0.0    1.0   \n",
       "\n",
       "             Adj_Open   Adj_High    Adj_Low  Adj_Close   Adj_Volume    HL_PCT  \\\n",
       "Date                                                                            \n",
       "2013-09-03  15.619650  15.857223  15.437510  15.476472  331928800.0  2.711941   \n",
       "2013-09-04  15.824280  15.909173  15.720381  15.796753  345032800.0  1.195129   \n",
       "2013-09-05  15.846136  15.859757  15.636755  15.688388  236367600.0  1.421447   \n",
       "2013-09-06  15.788802  15.818578  15.519869  15.781833  359525600.0  1.892738   \n",
       "2013-09-09  15.996600  16.089095  15.948451  16.033661  340687200.0  0.877176   \n",
       "\n",
       "            PCT_CHANGE  \n",
       "Date                    \n",
       "2013-09-03   -0.916650  \n",
       "2013-09-04   -0.173953  \n",
       "2013-09-05   -0.995502  \n",
       "2013-09-06   -0.044138  \n",
       "2013-09-09    0.231683  "
      ]
     },
     "execution_count": 7,
     "metadata": {},
     "output_type": "execute_result"
    }
   ],
   "source": [
    "df.head()"
   ]
  },
  {
   "cell_type": "code",
   "execution_count": 8,
   "metadata": {},
   "outputs": [
    {
     "data": {
      "text/plain": [
       "Open          0\n",
       "High          0\n",
       "Low           0\n",
       "Close         0\n",
       "Volume        0\n",
       "Dividend      0\n",
       "Split         0\n",
       "Adj_Open      0\n",
       "Adj_High      0\n",
       "Adj_Low       0\n",
       "Adj_Close     0\n",
       "Adj_Volume    0\n",
       "HL_PCT        0\n",
       "PCT_CHANGE    0\n",
       "dtype: int64"
      ]
     },
     "execution_count": 8,
     "metadata": {},
     "output_type": "execute_result"
    }
   ],
   "source": [
    "df.isnull().sum()"
   ]
  },
  {
   "cell_type": "code",
   "execution_count": 9,
   "metadata": {},
   "outputs": [
    {
     "data": {
      "text/plain": [
       "(1090, 14)"
      ]
     },
     "execution_count": 9,
     "metadata": {},
     "output_type": "execute_result"
    }
   ],
   "source": [
    "df.shape"
   ]
  },
  {
   "cell_type": "code",
   "execution_count": 10,
   "metadata": {},
   "outputs": [
    {
     "name": "stdout",
     "output_type": "stream",
     "text": [
      "              Open     High      Low   Close      Volume  Dividend  Split  \\\n",
      "Date                                                                        \n",
      "2017-12-14  172.40  173.130  171.650  172.22  20476541.0       0.0    1.0   \n",
      "2017-12-15  173.63  174.170  172.460  173.97  40169307.0       0.0    1.0   \n",
      "2017-12-18  174.88  177.200  174.860  176.42  29421114.0       0.0    1.0   \n",
      "2017-12-19  175.03  175.390  174.090  174.54  27436447.0       0.0    1.0   \n",
      "2017-12-20  174.87  175.420  173.250  174.35  23475649.0       0.0    1.0   \n",
      "2017-12-21  174.17  176.020  174.100  175.01  20949896.0       0.0    1.0   \n",
      "2017-12-22  174.68  175.424  174.500  175.01  16349444.0       0.0    1.0   \n",
      "2017-12-26  170.80  171.470  169.679  170.57  33185536.0       0.0    1.0   \n",
      "2017-12-27  170.10  170.780  169.710  170.60  21498213.0       0.0    1.0   \n",
      "2017-12-28  171.00  171.850  170.480  171.08  16480187.0       0.0    1.0   \n",
      "\n",
      "             Adj_Open   Adj_High    Adj_Low  Adj_Close   Adj_Volume    HL_PCT  \\\n",
      "Date                                                                            \n",
      "2017-12-14  41.473766  41.649380  41.293340  41.430464   81906164.0  0.859366   \n",
      "2017-12-15  41.769663  41.899570  41.488200  41.851456  160677228.0  0.982928   \n",
      "2017-12-18  42.070372  42.628488  42.065561  42.440845  117684456.0  1.326380   \n",
      "2017-12-19  42.106457  42.193061  41.880324  41.988579  109745788.0  0.744815   \n",
      "2017-12-20  42.067966  42.200278  41.678248  41.942872   93902596.0  1.244623   \n",
      "2017-12-21  41.899570  42.344619  41.882730  42.101646   83799584.0  1.097080   \n",
      "2017-12-22  42.022259  42.201241  41.978957  42.101646   65397776.0  0.527970   \n",
      "2017-12-26  41.088858  41.250038  40.819183  41.033528  132742144.0  1.050009   \n",
      "2017-12-27  40.920461  41.084047  40.826640  41.040745   85992852.0  0.627198   \n",
      "2017-12-28  41.136972  41.341454  41.011877  41.156217   65920748.0  0.800795   \n",
      "\n",
      "            PCT_CHANGE  Future_Price  \n",
      "Date                                  \n",
      "2017-12-14   -0.104408      -99999.0  \n",
      "2017-12-15    0.195819      -99999.0  \n",
      "2017-12-18    0.880604      -99999.0  \n",
      "2017-12-19   -0.279952      -99999.0  \n",
      "2017-12-20   -0.297364      -99999.0  \n",
      "2017-12-21    0.482287      -99999.0  \n",
      "2017-12-22    0.188917      -99999.0  \n",
      "2017-12-26   -0.134660      -99999.0  \n",
      "2017-12-27    0.293945      -99999.0  \n",
      "2017-12-28    0.046784      -99999.0  \n"
     ]
    }
   ],
   "source": [
    "# A variable for predicting 10 days out into the future\n",
    "forecast_out = 10\n",
    "#Create another column Future_Price shifted 10 units up\n",
    "df['Future_Price'] = df[['Adj_Close']].shift(-forecast_out)\n",
    "df_new=df.fillna(-99999)\n",
    "print(df_new.tail(10))"
   ]
  },
  {
   "cell_type": "code",
   "execution_count": 11,
   "metadata": {},
   "outputs": [
    {
     "data": {
      "text/html": [
       "<div>\n",
       "<style scoped>\n",
       "    .dataframe tbody tr th:only-of-type {\n",
       "        vertical-align: middle;\n",
       "    }\n",
       "\n",
       "    .dataframe tbody tr th {\n",
       "        vertical-align: top;\n",
       "    }\n",
       "\n",
       "    .dataframe thead th {\n",
       "        text-align: right;\n",
       "    }\n",
       "</style>\n",
       "<table border=\"1\" class=\"dataframe\">\n",
       "  <thead>\n",
       "    <tr style=\"text-align: right;\">\n",
       "      <th></th>\n",
       "      <th>Adj_Close</th>\n",
       "      <th>Future_Price</th>\n",
       "    </tr>\n",
       "    <tr>\n",
       "      <th>Date</th>\n",
       "      <th></th>\n",
       "      <th></th>\n",
       "    </tr>\n",
       "  </thead>\n",
       "  <tbody>\n",
       "    <tr>\n",
       "      <th>2017-12-14</th>\n",
       "      <td>41.430464</td>\n",
       "      <td>-99999.0</td>\n",
       "    </tr>\n",
       "    <tr>\n",
       "      <th>2017-12-15</th>\n",
       "      <td>41.851456</td>\n",
       "      <td>-99999.0</td>\n",
       "    </tr>\n",
       "    <tr>\n",
       "      <th>2017-12-18</th>\n",
       "      <td>42.440845</td>\n",
       "      <td>-99999.0</td>\n",
       "    </tr>\n",
       "    <tr>\n",
       "      <th>2017-12-19</th>\n",
       "      <td>41.988579</td>\n",
       "      <td>-99999.0</td>\n",
       "    </tr>\n",
       "    <tr>\n",
       "      <th>2017-12-20</th>\n",
       "      <td>41.942872</td>\n",
       "      <td>-99999.0</td>\n",
       "    </tr>\n",
       "    <tr>\n",
       "      <th>2017-12-21</th>\n",
       "      <td>42.101646</td>\n",
       "      <td>-99999.0</td>\n",
       "    </tr>\n",
       "    <tr>\n",
       "      <th>2017-12-22</th>\n",
       "      <td>42.101646</td>\n",
       "      <td>-99999.0</td>\n",
       "    </tr>\n",
       "    <tr>\n",
       "      <th>2017-12-26</th>\n",
       "      <td>41.033528</td>\n",
       "      <td>-99999.0</td>\n",
       "    </tr>\n",
       "    <tr>\n",
       "      <th>2017-12-27</th>\n",
       "      <td>41.040745</td>\n",
       "      <td>-99999.0</td>\n",
       "    </tr>\n",
       "    <tr>\n",
       "      <th>2017-12-28</th>\n",
       "      <td>41.156217</td>\n",
       "      <td>-99999.0</td>\n",
       "    </tr>\n",
       "  </tbody>\n",
       "</table>\n",
       "</div>"
      ],
      "text/plain": [
       "            Adj_Close  Future_Price\n",
       "Date                               \n",
       "2017-12-14  41.430464      -99999.0\n",
       "2017-12-15  41.851456      -99999.0\n",
       "2017-12-18  42.440845      -99999.0\n",
       "2017-12-19  41.988579      -99999.0\n",
       "2017-12-20  41.942872      -99999.0\n",
       "2017-12-21  42.101646      -99999.0\n",
       "2017-12-22  42.101646      -99999.0\n",
       "2017-12-26  41.033528      -99999.0\n",
       "2017-12-27  41.040745      -99999.0\n",
       "2017-12-28  41.156217      -99999.0"
      ]
     },
     "execution_count": 11,
     "metadata": {},
     "output_type": "execute_result"
    }
   ],
   "source": [
    "df1=df_new[['Adj_Close','Future_Price']]\n",
    "df1.tail(10)"
   ]
  },
  {
   "cell_type": "code",
   "execution_count": 12,
   "metadata": {},
   "outputs": [
    {
     "name": "stdout",
     "output_type": "stream",
     "text": [
      "[[15.47647246]\n",
      " [15.79675289]\n",
      " [15.68838781]\n",
      " ...\n",
      " [41.5387189 ]\n",
      " [41.30536882]\n",
      " [41.44249206]]\n"
     ]
    }
   ],
   "source": [
    "x = np.array(df1.drop(['Future_Price'],1))\n",
    "\n",
    "#Remove the last '10' rows\n",
    "x = x[:-forecast_out]\n",
    "print(x)"
   ]
  },
  {
   "cell_type": "code",
   "execution_count": 13,
   "metadata": {},
   "outputs": [
    {
     "name": "stdout",
     "output_type": "stream",
     "text": [
      "[14.42291424 14.71940567 14.96078011 ... 41.03352802 41.04074503\n",
      " 41.15621723]\n"
     ]
    }
   ],
   "source": [
    "y = np.array(df1['Future_Price'])\n",
    "# Get all of the y values except the last '10' rows\n",
    "y = y[:-forecast_out]\n",
    "print(y)"
   ]
  },
  {
   "cell_type": "code",
   "execution_count": 14,
   "metadata": {},
   "outputs": [],
   "source": [
    "# Split the data into 80% training and 20% testing\n",
    "from sklearn.model_selection import train_test_split\n",
    "\n",
    "x_train, x_test, y_train, y_test = train_test_split(x, y, test_size=0.2)"
   ]
  },
  {
   "cell_type": "code",
   "execution_count": 15,
   "metadata": {},
   "outputs": [],
   "source": [
    "from sklearn.linear_model import LinearRegression  ## Algorithm \n",
    "lr = LinearRegression()\n",
    "# Train the model\n",
    "model_train=lr.fit(x_train, y_train)"
   ]
  },
  {
   "cell_type": "code",
   "execution_count": 37,
   "metadata": {
    "collapsed": true
   },
   "outputs": [
    {
     "data": {
      "text/plain": [
       "array([29.98869307, 28.41896805, 27.40699311, 22.07001968, 32.76256355,\n",
       "       24.76751834, 27.59767949, 26.45526584, 16.69709283, 34.44953533,\n",
       "       16.14657341, 25.70477343, 30.16998458, 29.79191506, 37.91953553,\n",
       "       15.58850816, 19.13098028, 29.84992028, 29.04491364, 28.15795241,\n",
       "       25.77143754, 29.26070466, 25.41415277, 18.59262678, 38.48724593,\n",
       "       29.59284937, 25.71927356, 34.26498583, 38.61351494, 36.96062972,\n",
       "       15.52924683, 32.79095578, 29.27107004, 40.118817  , 16.99611728,\n",
       "       24.98732848, 15.72531358, 22.76975358, 15.78236838, 26.55139382,\n",
       "       25.91570777, 28.30476545, 26.00320485, 36.80798217, 36.93389436,\n",
       "       27.08402072, 41.49754226, 19.36471738, 27.90246363, 23.11433119,\n",
       "       27.60920246, 21.72691517, 15.0050362 , 34.01182176, 25.81392375,\n",
       "       21.2147285 , 29.08040287, 25.42493394, 37.1991635 , 17.34647986,\n",
       "       15.81641212, 17.53529966, 27.04256799, 17.09355063, 17.08749053,\n",
       "       28.0603338 , 41.6866486 , 40.67221538, 23.04201595, 22.45796541,\n",
       "       36.22831097, 15.25059247, 27.78204701, 28.56917724, 34.56531982,\n",
       "       29.19245574, 34.9739405 , 27.54927712, 21.75132153, 30.76014423,\n",
       "       34.60332659, 22.6539036 , 30.52064121, 26.24027363, 21.66825064,\n",
       "       23.47782561, 20.72945339, 15.94250007, 22.34966167, 27.19570009,\n",
       "       38.48247525, 29.20838049, 37.50406275, 36.8436177 , 17.30913054,\n",
       "       27.26120877, 19.74190412, 17.00169234, 23.28578414, 21.07103832,\n",
       "       28.6168899 , 37.13953006, 37.91476485, 34.2247635 , 16.86703993,\n",
       "       26.50778357, 27.90083436, 37.53788147, 25.80270615, 33.90061885,\n",
       "       17.47374186, 33.6379907 , 38.34174032, 38.00540769, 16.4824395 ,\n",
       "       27.85063431, 31.33733446, 25.49917919, 16.06984889, 25.16337527,\n",
       "       28.6398536 , 16.89824669, 26.38763377, 27.5863313 , 33.23576742,\n",
       "       38.62798086, 31.45748426, 36.91292296, 26.25334869, 26.85913758,\n",
       "       35.74366783, 40.92298134, 22.72872475, 17.6609719 , 38.1890787 ,\n",
       "       21.80649899, 27.08287783, 21.44126506, 28.51264658, 19.51822656,\n",
       "       29.36929958, 26.01926793, 28.38939352, 29.06318891, 24.90371028,\n",
       "       17.265147  , 37.39953188, 37.68224037, 23.42141741, 28.44639875,\n",
       "       23.17256114, 23.27024344, 25.12555959, 25.2094047 , 15.51064886,\n",
       "       32.69394899, 21.00143839, 36.05013335, 27.84427105, 26.76457432,\n",
       "       33.90771691, 16.83152859, 37.55696418, 22.73268158, 22.79755758,\n",
       "       27.71965977, 24.96813775, 22.70865949, 26.78800108, 27.9283783 ,\n",
       "       25.3767447 , 25.98133179, 28.67603896, 17.26897443, 23.21157892,\n",
       "       17.56687595, 21.03222914, 38.38069666, 27.88208464, 17.54805776,\n",
       "       16.95467105, 16.87388854, 26.42629173, 17.67460571, 28.53549066,\n",
       "       21.70641835, 34.33596641, 25.06259552, 26.09696511, 21.81418599,\n",
       "       20.36477541, 27.50088655, 22.70399716, 36.00499502, 25.05304491,\n",
       "       22.27915844, 23.14388908, 16.82707005, 28.39484223, 27.39257063,\n",
       "       33.27125771, 29.22203027, 18.42605091, 24.64352568, 25.56180681,\n",
       "       23.06066526, 29.545199  , 35.75792204, 34.62946376, 29.32212868,\n",
       "       27.0192264 , 20.76120636, 33.7231674 , 36.92439155, 24.349799  ,\n",
       "       17.28428415])"
      ]
     },
     "execution_count": 37,
     "metadata": {},
     "output_type": "execute_result"
    }
   ],
   "source": [
    "p=model_train.predict(x_test)\n",
    "p"
   ]
  },
  {
   "cell_type": "code",
   "execution_count": 16,
   "metadata": {},
   "outputs": [
    {
     "name": "stdout",
     "output_type": "stream",
     "text": [
      "lr confidence:  0.9737577139732058\n"
     ]
    }
   ],
   "source": [
    "lr_confidence = lr.score(x_test, y_test)\n",
    "print(\"lr confidence: \", lr_confidence)"
   ]
  },
  {
   "cell_type": "code",
   "execution_count": 17,
   "metadata": {
    "collapsed": true
   },
   "outputs": [
    {
     "data": {
      "text/plain": [
       "array([29.98869307, 28.41896805, 27.40699311, 22.07001968, 32.76256355,\n",
       "       24.76751834, 27.59767949, 26.45526584, 16.69709283, 34.44953533,\n",
       "       16.14657341, 25.70477343, 30.16998458, 29.79191506, 37.91953553,\n",
       "       15.58850816, 19.13098028, 29.84992028, 29.04491364, 28.15795241,\n",
       "       25.77143754, 29.26070466, 25.41415277, 18.59262678, 38.48724593,\n",
       "       29.59284937, 25.71927356, 34.26498583, 38.61351494, 36.96062972,\n",
       "       15.52924683, 32.79095578, 29.27107004, 40.118817  , 16.99611728,\n",
       "       24.98732848, 15.72531358, 22.76975358, 15.78236838, 26.55139382,\n",
       "       25.91570777, 28.30476545, 26.00320485, 36.80798217, 36.93389436,\n",
       "       27.08402072, 41.49754226, 19.36471738, 27.90246363, 23.11433119,\n",
       "       27.60920246, 21.72691517, 15.0050362 , 34.01182176, 25.81392375,\n",
       "       21.2147285 , 29.08040287, 25.42493394, 37.1991635 , 17.34647986,\n",
       "       15.81641212, 17.53529966, 27.04256799, 17.09355063, 17.08749053,\n",
       "       28.0603338 , 41.6866486 , 40.67221538, 23.04201595, 22.45796541,\n",
       "       36.22831097, 15.25059247, 27.78204701, 28.56917724, 34.56531982,\n",
       "       29.19245574, 34.9739405 , 27.54927712, 21.75132153, 30.76014423,\n",
       "       34.60332659, 22.6539036 , 30.52064121, 26.24027363, 21.66825064,\n",
       "       23.47782561, 20.72945339, 15.94250007, 22.34966167, 27.19570009,\n",
       "       38.48247525, 29.20838049, 37.50406275, 36.8436177 , 17.30913054,\n",
       "       27.26120877, 19.74190412, 17.00169234, 23.28578414, 21.07103832,\n",
       "       28.6168899 , 37.13953006, 37.91476485, 34.2247635 , 16.86703993,\n",
       "       26.50778357, 27.90083436, 37.53788147, 25.80270615, 33.90061885,\n",
       "       17.47374186, 33.6379907 , 38.34174032, 38.00540769, 16.4824395 ,\n",
       "       27.85063431, 31.33733446, 25.49917919, 16.06984889, 25.16337527,\n",
       "       28.6398536 , 16.89824669, 26.38763377, 27.5863313 , 33.23576742,\n",
       "       38.62798086, 31.45748426, 36.91292296, 26.25334869, 26.85913758,\n",
       "       35.74366783, 40.92298134, 22.72872475, 17.6609719 , 38.1890787 ,\n",
       "       21.80649899, 27.08287783, 21.44126506, 28.51264658, 19.51822656,\n",
       "       29.36929958, 26.01926793, 28.38939352, 29.06318891, 24.90371028,\n",
       "       17.265147  , 37.39953188, 37.68224037, 23.42141741, 28.44639875,\n",
       "       23.17256114, 23.27024344, 25.12555959, 25.2094047 , 15.51064886,\n",
       "       32.69394899, 21.00143839, 36.05013335, 27.84427105, 26.76457432,\n",
       "       33.90771691, 16.83152859, 37.55696418, 22.73268158, 22.79755758,\n",
       "       27.71965977, 24.96813775, 22.70865949, 26.78800108, 27.9283783 ,\n",
       "       25.3767447 , 25.98133179, 28.67603896, 17.26897443, 23.21157892,\n",
       "       17.56687595, 21.03222914, 38.38069666, 27.88208464, 17.54805776,\n",
       "       16.95467105, 16.87388854, 26.42629173, 17.67460571, 28.53549066,\n",
       "       21.70641835, 34.33596641, 25.06259552, 26.09696511, 21.81418599,\n",
       "       20.36477541, 27.50088655, 22.70399716, 36.00499502, 25.05304491,\n",
       "       22.27915844, 23.14388908, 16.82707005, 28.39484223, 27.39257063,\n",
       "       33.27125771, 29.22203027, 18.42605091, 24.64352568, 25.56180681,\n",
       "       23.06066526, 29.545199  , 35.75792204, 34.62946376, 29.32212868,\n",
       "       27.0192264 , 20.76120636, 33.7231674 , 36.92439155, 24.349799  ,\n",
       "       17.28428415])"
      ]
     },
     "execution_count": 17,
     "metadata": {},
     "output_type": "execute_result"
    }
   ],
   "source": [
    "#lr_prediction = lr.predict(x_forecast)\n",
    "#print(lr_prediction)\n",
    "pred = model_train.predict(x_test) ## predict 20% of my data\n",
    "pred"
   ]
  },
  {
   "cell_type": "code",
   "execution_count": 18,
   "metadata": {},
   "outputs": [
    {
     "data": {
      "text/html": [
       "<div>\n",
       "<style scoped>\n",
       "    .dataframe tbody tr th:only-of-type {\n",
       "        vertical-align: middle;\n",
       "    }\n",
       "\n",
       "    .dataframe tbody tr th {\n",
       "        vertical-align: top;\n",
       "    }\n",
       "\n",
       "    .dataframe thead th {\n",
       "        text-align: right;\n",
       "    }\n",
       "</style>\n",
       "<table border=\"1\" class=\"dataframe\">\n",
       "  <thead>\n",
       "    <tr style=\"text-align: right;\">\n",
       "      <th></th>\n",
       "      <th>Actual</th>\n",
       "      <th>Pred</th>\n",
       "      <th>Error</th>\n",
       "    </tr>\n",
       "  </thead>\n",
       "  <tbody>\n",
       "    <tr>\n",
       "      <th>0</th>\n",
       "      <td>29.296459</td>\n",
       "      <td>29.988693</td>\n",
       "      <td>-0.692234</td>\n",
       "    </tr>\n",
       "    <tr>\n",
       "      <th>1</th>\n",
       "      <td>28.933014</td>\n",
       "      <td>28.418968</td>\n",
       "      <td>0.514046</td>\n",
       "    </tr>\n",
       "    <tr>\n",
       "      <th>2</th>\n",
       "      <td>27.016736</td>\n",
       "      <td>27.406993</td>\n",
       "      <td>-0.390257</td>\n",
       "    </tr>\n",
       "    <tr>\n",
       "      <th>3</th>\n",
       "      <td>21.205089</td>\n",
       "      <td>22.070020</td>\n",
       "      <td>-0.864930</td>\n",
       "    </tr>\n",
       "    <tr>\n",
       "      <th>4</th>\n",
       "      <td>33.046431</td>\n",
       "      <td>32.762564</td>\n",
       "      <td>0.283867</td>\n",
       "    </tr>\n",
       "    <tr>\n",
       "      <th>...</th>\n",
       "      <td>...</td>\n",
       "      <td>...</td>\n",
       "      <td>...</td>\n",
       "    </tr>\n",
       "    <tr>\n",
       "      <th>211</th>\n",
       "      <td>21.651914</td>\n",
       "      <td>20.761206</td>\n",
       "      <td>0.890707</td>\n",
       "    </tr>\n",
       "    <tr>\n",
       "      <th>212</th>\n",
       "      <td>34.154398</td>\n",
       "      <td>33.723167</td>\n",
       "      <td>0.431231</td>\n",
       "    </tr>\n",
       "    <tr>\n",
       "      <th>213</th>\n",
       "      <td>36.734029</td>\n",
       "      <td>36.924392</td>\n",
       "      <td>-0.190362</td>\n",
       "    </tr>\n",
       "    <tr>\n",
       "      <th>214</th>\n",
       "      <td>25.436144</td>\n",
       "      <td>24.349799</td>\n",
       "      <td>1.086345</td>\n",
       "    </tr>\n",
       "    <tr>\n",
       "      <th>215</th>\n",
       "      <td>17.281856</td>\n",
       "      <td>17.284284</td>\n",
       "      <td>-0.002428</td>\n",
       "    </tr>\n",
       "  </tbody>\n",
       "</table>\n",
       "<p>216 rows × 3 columns</p>\n",
       "</div>"
      ],
      "text/plain": [
       "        Actual       Pred     Error\n",
       "0    29.296459  29.988693 -0.692234\n",
       "1    28.933014  28.418968  0.514046\n",
       "2    27.016736  27.406993 -0.390257\n",
       "3    21.205089  22.070020 -0.864930\n",
       "4    33.046431  32.762564  0.283867\n",
       "..         ...        ...       ...\n",
       "211  21.651914  20.761206  0.890707\n",
       "212  34.154398  33.723167  0.431231\n",
       "213  36.734029  36.924392 -0.190362\n",
       "214  25.436144  24.349799  1.086345\n",
       "215  17.281856  17.284284 -0.002428\n",
       "\n",
       "[216 rows x 3 columns]"
      ]
     },
     "execution_count": 18,
     "metadata": {},
     "output_type": "execute_result"
    }
   ],
   "source": [
    "df_final = pd.DataFrame({'Actual': y_test,'Pred': pred, 'Error': y_test - pred})\n",
    "df_final"
   ]
  },
  {
   "cell_type": "code",
   "execution_count": 19,
   "metadata": {},
   "outputs": [
    {
     "data": {
      "text/plain": [
       "0.9679343698110948"
      ]
     },
     "execution_count": 19,
     "metadata": {},
     "output_type": "execute_result"
    }
   ],
   "source": [
    "model_train.score(x_train,y_train)"
   ]
  },
  {
   "cell_type": "code",
   "execution_count": 20,
   "metadata": {},
   "outputs": [
    {
     "name": "stdout",
     "output_type": "stream",
     "text": [
      "[[41.43046371]\n",
      " [41.85145611]\n",
      " [42.44084548]\n",
      " [41.98857935]\n",
      " [41.94287161]\n",
      " [42.10164588]\n",
      " [42.10164588]\n",
      " [41.03352802]\n",
      " [41.04074503]\n",
      " [41.15621723]]\n"
     ]
    }
   ],
   "source": [
    "# Set x_forecast equal to the last 10 rows of the original data set from Adj. Close column\n",
    "x_forecast = np.array(df1.drop(['Future_Price'],1))[-forecast_out:]\n",
    "print(x_forecast)"
   ]
  },
  {
   "cell_type": "code",
   "execution_count": 21,
   "metadata": {},
   "outputs": [
    {
     "name": "stdout",
     "output_type": "stream",
     "text": [
      "[41.57892124 41.99786097 42.58437658 42.13431562 42.08883073 42.24683086\n",
      " 42.24683086 41.18392094 41.19110276 41.30601194]\n"
     ]
    }
   ],
   "source": [
    "lr_prediction = lr.predict(x_forecast)\n",
    "print(lr_prediction)"
   ]
  },
  {
   "cell_type": "code",
   "execution_count": 22,
   "metadata": {},
   "outputs": [],
   "source": [
    "from sklearn.preprocessing import StandardScaler"
   ]
  },
  {
   "cell_type": "code",
   "execution_count": 23,
   "metadata": {},
   "outputs": [],
   "source": [
    "scale = StandardScaler()"
   ]
  },
  {
   "cell_type": "code",
   "execution_count": 24,
   "metadata": {},
   "outputs": [
    {
     "data": {
      "text/plain": [
       "Date\n",
       "2013-09-03    15.476472\n",
       "2013-09-04    15.796753\n",
       "2013-09-05    15.688388\n",
       "2013-09-06    15.781833\n",
       "2013-09-09    16.033661\n",
       "                ...    \n",
       "2017-12-21    42.101646\n",
       "2017-12-22    42.101646\n",
       "2017-12-26    41.033528\n",
       "2017-12-27    41.040745\n",
       "2017-12-28    41.156217\n",
       "Name: Adj_Close, Length: 1090, dtype: float64"
      ]
     },
     "execution_count": 24,
     "metadata": {},
     "output_type": "execute_result"
    }
   ],
   "source": [
    "df1['Adj_Close']"
   ]
  },
  {
   "cell_type": "code",
   "execution_count": 25,
   "metadata": {},
   "outputs": [],
   "source": [
    "df2=df1.reset_index()"
   ]
  },
  {
   "cell_type": "code",
   "execution_count": 26,
   "metadata": {},
   "outputs": [
    {
     "data": {
      "text/html": [
       "<div>\n",
       "<style scoped>\n",
       "    .dataframe tbody tr th:only-of-type {\n",
       "        vertical-align: middle;\n",
       "    }\n",
       "\n",
       "    .dataframe tbody tr th {\n",
       "        vertical-align: top;\n",
       "    }\n",
       "\n",
       "    .dataframe thead th {\n",
       "        text-align: right;\n",
       "    }\n",
       "</style>\n",
       "<table border=\"1\" class=\"dataframe\">\n",
       "  <thead>\n",
       "    <tr style=\"text-align: right;\">\n",
       "      <th></th>\n",
       "      <th>Date</th>\n",
       "      <th>Adj_Close</th>\n",
       "      <th>Future_Price</th>\n",
       "    </tr>\n",
       "  </thead>\n",
       "  <tbody>\n",
       "    <tr>\n",
       "      <th>0</th>\n",
       "      <td>2013-09-03</td>\n",
       "      <td>15.476472</td>\n",
       "      <td>14.422914</td>\n",
       "    </tr>\n",
       "    <tr>\n",
       "      <th>1</th>\n",
       "      <td>2013-09-04</td>\n",
       "      <td>15.796753</td>\n",
       "      <td>14.719406</td>\n",
       "    </tr>\n",
       "    <tr>\n",
       "      <th>2</th>\n",
       "      <td>2013-09-05</td>\n",
       "      <td>15.688388</td>\n",
       "      <td>14.960780</td>\n",
       "    </tr>\n",
       "    <tr>\n",
       "      <th>3</th>\n",
       "      <td>2013-09-06</td>\n",
       "      <td>15.781833</td>\n",
       "      <td>14.805882</td>\n",
       "    </tr>\n",
       "    <tr>\n",
       "      <th>4</th>\n",
       "      <td>2013-09-09</td>\n",
       "      <td>16.033661</td>\n",
       "      <td>15.541726</td>\n",
       "    </tr>\n",
       "    <tr>\n",
       "      <th>...</th>\n",
       "      <td>...</td>\n",
       "      <td>...</td>\n",
       "      <td>...</td>\n",
       "    </tr>\n",
       "    <tr>\n",
       "      <th>1085</th>\n",
       "      <td>2017-12-21</td>\n",
       "      <td>42.101646</td>\n",
       "      <td>-99999.000000</td>\n",
       "    </tr>\n",
       "    <tr>\n",
       "      <th>1086</th>\n",
       "      <td>2017-12-22</td>\n",
       "      <td>42.101646</td>\n",
       "      <td>-99999.000000</td>\n",
       "    </tr>\n",
       "    <tr>\n",
       "      <th>1087</th>\n",
       "      <td>2017-12-26</td>\n",
       "      <td>41.033528</td>\n",
       "      <td>-99999.000000</td>\n",
       "    </tr>\n",
       "    <tr>\n",
       "      <th>1088</th>\n",
       "      <td>2017-12-27</td>\n",
       "      <td>41.040745</td>\n",
       "      <td>-99999.000000</td>\n",
       "    </tr>\n",
       "    <tr>\n",
       "      <th>1089</th>\n",
       "      <td>2017-12-28</td>\n",
       "      <td>41.156217</td>\n",
       "      <td>-99999.000000</td>\n",
       "    </tr>\n",
       "  </tbody>\n",
       "</table>\n",
       "<p>1090 rows × 3 columns</p>\n",
       "</div>"
      ],
      "text/plain": [
       "           Date  Adj_Close  Future_Price\n",
       "0    2013-09-03  15.476472     14.422914\n",
       "1    2013-09-04  15.796753     14.719406\n",
       "2    2013-09-05  15.688388     14.960780\n",
       "3    2013-09-06  15.781833     14.805882\n",
       "4    2013-09-09  16.033661     15.541726\n",
       "...         ...        ...           ...\n",
       "1085 2017-12-21  42.101646 -99999.000000\n",
       "1086 2017-12-22  42.101646 -99999.000000\n",
       "1087 2017-12-26  41.033528 -99999.000000\n",
       "1088 2017-12-27  41.040745 -99999.000000\n",
       "1089 2017-12-28  41.156217 -99999.000000\n",
       "\n",
       "[1090 rows x 3 columns]"
      ]
     },
     "execution_count": 26,
     "metadata": {},
     "output_type": "execute_result"
    }
   ],
   "source": [
    "df2"
   ]
  },
  {
   "cell_type": "code",
   "execution_count": 31,
   "metadata": {},
   "outputs": [],
   "source": [
    "t=scale.fit_transform(x)"
   ]
  },
  {
   "cell_type": "code",
   "execution_count": 32,
   "metadata": {},
   "outputs": [
    {
     "data": {
      "text/plain": [
       "array([[-1.66062923],\n",
       "       [-1.61117497],\n",
       "       [-1.62790754],\n",
       "       ...,\n",
       "       [ 2.36362235],\n",
       "       [ 2.32759094],\n",
       "       [ 2.34876404]])"
      ]
     },
     "execution_count": 32,
     "metadata": {},
     "output_type": "execute_result"
    }
   ],
   "source": [
    "t"
   ]
  },
  {
   "cell_type": "code",
   "execution_count": 33,
   "metadata": {},
   "outputs": [
    {
     "data": {
      "text/plain": [
       "array([[15.47647246],\n",
       "       [15.79675289],\n",
       "       [15.68838781],\n",
       "       ...,\n",
       "       [41.5387189 ],\n",
       "       [41.30536882],\n",
       "       [41.44249206]])"
      ]
     },
     "execution_count": 33,
     "metadata": {},
     "output_type": "execute_result"
    }
   ],
   "source": [
    "scale.inverse_transform(t)"
   ]
  },
  {
   "cell_type": "code",
   "execution_count": 34,
   "metadata": {},
   "outputs": [],
   "source": [
    "from sklearn.metrics import mean_squared_error"
   ]
  },
  {
   "cell_type": "code",
   "execution_count": 39,
   "metadata": {},
   "outputs": [
    {
     "data": {
      "text/plain": [
       "1.2607953650796162"
      ]
     },
     "execution_count": 39,
     "metadata": {},
     "output_type": "execute_result"
    }
   ],
   "source": [
    "a=mean_squared_error(y_test, p)\n",
    "a"
   ]
  },
  {
   "cell_type": "code",
   "execution_count": 40,
   "metadata": {},
   "outputs": [
    {
     "data": {
      "text/plain": [
       "1.26"
      ]
     },
     "execution_count": 40,
     "metadata": {},
     "output_type": "execute_result"
    }
   ],
   "source": [
    "round(a,2)"
   ]
  },
  {
   "cell_type": "code",
   "execution_count": null,
   "metadata": {},
   "outputs": [],
   "source": []
  }
 ],
 "metadata": {
  "kernelspec": {
   "display_name": "Python 3",
   "language": "python",
   "name": "python3"
  },
  "language_info": {
   "codemirror_mode": {
    "name": "ipython",
    "version": 3
   },
   "file_extension": ".py",
   "mimetype": "text/x-python",
   "name": "python",
   "nbconvert_exporter": "python",
   "pygments_lexer": "ipython3",
   "version": "3.8.3"
  }
 },
 "nbformat": 4,
 "nbformat_minor": 4
}
